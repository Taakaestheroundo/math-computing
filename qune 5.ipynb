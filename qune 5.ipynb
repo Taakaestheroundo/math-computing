{
 "cells": [
  {
   "cell_type": "code",
   "execution_count": 29,
   "metadata": {},
   "outputs": [
    {
     "name": "stderr",
     "output_type": "stream",
     "text": [
      "<>:4: SyntaxWarning: list indices must be integers or slices, not tuple; perhaps you missed a comma?\n",
      "<>:4: SyntaxWarning: list indices must be integers or slices, not tuple; perhaps you missed a comma?\n",
      "C:\\Users\\Student\\AppData\\Local\\Temp\\ipykernel_2436\\1849002727.py:4: SyntaxWarning: list indices must be integers or slices, not tuple; perhaps you missed a comma?\n",
      "  [4,1,3]\n"
     ]
    },
    {
     "ename": "TypeError",
     "evalue": "list indices must be integers or slices, not tuple",
     "output_type": "error",
     "traceback": [
      "\u001b[1;31m---------------------------------------------------------------------------\u001b[0m",
      "\u001b[1;31mTypeError\u001b[0m                                 Traceback (most recent call last)",
      "\u001b[1;32mc:\\Users\\Student\\Desktop\\WITI C3\\YEAR ONE\\SEMESTER ONE\\Mathematical  computing\\Exam quention 4 math\\qune 5.ipynb Cell 1\u001b[0m line \u001b[0;36m4\n\u001b[0;32m      <a href='vscode-notebook-cell:/c%3A/Users/Student/Desktop/WITI%20C3/YEAR%20ONE/SEMESTER%20ONE/Mathematical%20%20computing/Exam%20quention%204%20math/qune%205.ipynb#W1sZmlsZQ%3D%3D?line=0'>1</a>\u001b[0m \u001b[39m# python program\u001b[39;00m\n\u001b[0;32m      <a href='vscode-notebook-cell:/c%3A/Users/Student/Desktop/WITI%20C3/YEAR%20ONE/SEMESTER%20ONE/Mathematical%20%20computing/Exam%20quention%204%20math/qune%205.ipynb#W1sZmlsZQ%3D%3D?line=1'>2</a>\u001b[0m \u001b[39mimport\u001b[39;00m \u001b[39mnumpy\u001b[39;00m \u001b[39mas\u001b[39;00m \u001b[39mnp\u001b[39;00m\n\u001b[0;32m      <a href='vscode-notebook-cell:/c%3A/Users/Student/Desktop/WITI%20C3/YEAR%20ONE/SEMESTER%20ONE/Mathematical%20%20computing/Exam%20quention%204%20math/qune%205.ipynb#W1sZmlsZQ%3D%3D?line=2'>3</a>\u001b[0m M \u001b[39m=\u001b[39m np\u001b[39m.\u001b[39marray([[\u001b[39m2\u001b[39m,\u001b[39m3\u001b[39m,\u001b[39m-\u001b[39m\u001b[39m1\u001b[39m],\n\u001b[1;32m----> <a href='vscode-notebook-cell:/c%3A/Users/Student/Desktop/WITI%20C3/YEAR%20ONE/SEMESTER%20ONE/Mathematical%20%20computing/Exam%20quention%204%20math/qune%205.ipynb#W1sZmlsZQ%3D%3D?line=3'>4</a>\u001b[0m                [\u001b[39m4\u001b[39;49m,\u001b[39m1\u001b[39;49m,\u001b[39m3\u001b[39;49m]\n\u001b[0;32m      <a href='vscode-notebook-cell:/c%3A/Users/Student/Desktop/WITI%20C3/YEAR%20ONE/SEMESTER%20ONE/Mathematical%20%20computing/Exam%20quention%204%20math/qune%205.ipynb#W1sZmlsZQ%3D%3D?line=4'>5</a>\u001b[0m                [\u001b[39m2\u001b[39;49m,\u001b[39m2\u001b[39;49m,\u001b[39m3\u001b[39;49m]])\n\u001b[0;32m      <a href='vscode-notebook-cell:/c%3A/Users/Student/Desktop/WITI%20C3/YEAR%20ONE/SEMESTER%20ONE/Mathematical%20%20computing/Exam%20quention%204%20math/qune%205.ipynb#W1sZmlsZQ%3D%3D?line=5'>6</a>\u001b[0m N \u001b[39m=\u001b[39m np\u001b[39m.\u001b[39marray([\u001b[39m5\u001b[39m,\u001b[39m-\u001b[39m\u001b[39m1\u001b[39m,\u001b[39m7\u001b[39m])\n",
      "\u001b[1;31mTypeError\u001b[0m: list indices must be integers or slices, not tuple"
     ]
    }
   ],
   "source": [
    "# python program\n",
    "import numpy as np\n",
    "M = np.array([[2,3,-1],\n",
    "               [4,1,3]\n",
    "               [2,2,3]])\n",
    "N = np.array([5,-1,7])"
   ]
  },
  {
   "cell_type": "code",
   "execution_count": 20,
   "metadata": {},
   "outputs": [
    {
     "ename": "NameError",
     "evalue": "name 'M' is not defined",
     "output_type": "error",
     "traceback": [
      "\u001b[1;31m---------------------------------------------------------------------------\u001b[0m",
      "\u001b[1;31mNameError\u001b[0m                                 Traceback (most recent call last)",
      "\u001b[1;32mc:\\Users\\Student\\Desktop\\WITI C3\\YEAR ONE\\SEMESTER ONE\\Mathematical  computing\\Exam quention 4 math\\qune 5.ipynb Cell 2\u001b[0m line \u001b[0;36m1\n\u001b[1;32m----> <a href='vscode-notebook-cell:/c%3A/Users/Student/Desktop/WITI%20C3/YEAR%20ONE/SEMESTER%20ONE/Mathematical%20%20computing/Exam%20quention%204%20math/qune%205.ipynb#W2sZmlsZQ%3D%3D?line=0'>1</a>\u001b[0m answers \u001b[39m=\u001b[39m np\u001b[39m.\u001b[39mlinalg\u001b[39m.\u001b[39msolve(M,N)\n\u001b[0;32m      <a href='vscode-notebook-cell:/c%3A/Users/Student/Desktop/WITI%20C3/YEAR%20ONE/SEMESTER%20ONE/Mathematical%20%20computing/Exam%20quention%204%20math/qune%205.ipynb#W2sZmlsZQ%3D%3D?line=1'>2</a>\u001b[0m \u001b[39mprint\u001b[39m(\u001b[39m\"\u001b[39m\u001b[39msolution is\u001b[39m\u001b[39m\"\u001b[39m)\n\u001b[0;32m      <a href='vscode-notebook-cell:/c%3A/Users/Student/Desktop/WITI%20C3/YEAR%20ONE/SEMESTER%20ONE/Mathematical%20%20computing/Exam%20quention%204%20math/qune%205.ipynb#W2sZmlsZQ%3D%3D?line=2'>3</a>\u001b[0m \u001b[39mprint\u001b[39m(\u001b[39m\"\u001b[39m\u001b[39my=\u001b[39m\u001b[39m\"\u001b[39m,answers[\u001b[39m1\u001b[39m])\n",
      "\u001b[1;31mNameError\u001b[0m: name 'M' is not defined"
     ]
    }
   ],
   "source": [
    "answers = np.linalg.solve(M,N)\n",
    "print(\"solution is\")\n",
    "print(\"y=\",answers[1])\n",
    "print(\"x=\",answers[1])\n",
    "print(\"w=\",answers[2])\n",
    "\n",
    "\n",
    "\n",
    "\n",
    "\n"
   ]
  }
 ],
 "metadata": {
  "kernelspec": {
   "display_name": "Python 3",
   "language": "python",
   "name": "python3"
  },
  "language_info": {
   "codemirror_mode": {
    "name": "ipython",
    "version": 3
   },
   "file_extension": ".py",
   "mimetype": "text/x-python",
   "name": "python",
   "nbconvert_exporter": "python",
   "pygments_lexer": "ipython3",
   "version": "3.11.6"
  }
 },
 "nbformat": 4,
 "nbformat_minor": 2
}
